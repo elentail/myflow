{
 "cells": [
  {
   "cell_type": "code",
   "execution_count": 1,
   "metadata": {},
   "outputs": [],
   "source": [
    "import json"
   ]
  },
  {
   "cell_type": "code",
   "execution_count": 2,
   "metadata": {},
   "outputs": [],
   "source": [
    "with open('/home/roadcom/workspace/myflow/mydata.json', 'r') as fr:\n",
    "    graph_data = json.load(fr)"
   ]
  },
  {
   "cell_type": "code",
   "execution_count": 3,
   "metadata": {},
   "outputs": [],
   "source": [
    "# Node 실행 순서 parsing\n",
    "nodes = {}\n",
    "for node in graph_data['operators']:\n",
    "    nodes[node] = []\n",
    "for k, edge in graph_data['links'].items():\n",
    "    nodes[str(edge['fromOperator'])].append(str(edge['toOperator']))    "
   ]
  },
  {
   "cell_type": "code",
   "execution_count": 4,
   "metadata": {},
   "outputs": [],
   "source": [
    "# Node 실행시 입력으로 들어온 node의 파라미터 parsing\n",
    "nodes_ins = {}\n",
    "for k, edge in graph_data['links'].items():\n",
    "    \n",
    "    to_node = str(edge[str('toOperator')])\n",
    "    if to_node not in nodes_ins:\n",
    "        nodes_ins[to_node] = {}\n",
    "    \n",
    "    nodes_ins[to_node][edge['toConnector']] = (str(edge['fromOperator']), edge['fromConnector'])"
   ]
  },
  {
   "cell_type": "code",
   "execution_count": 5,
   "metadata": {},
   "outputs": [],
   "source": [
    "nodes = {}\n",
    "for node in graph_data['operators']:\n",
    "    nodes[node] = {}\n",
    "    \n",
    "for k, edge in graph_data['links'].items():\n",
    "    nodes[str(edge['fromOperator'])][str(edge['toOperator'])] = edge"
   ]
  },
  {
   "cell_type": "code",
   "execution_count": 6,
   "metadata": {},
   "outputs": [],
   "source": [
    "def bfs(graph, start):\n",
    "    visited = []\n",
    "    queue = [start]\n",
    "\n",
    "    while queue:\n",
    "        n = queue.pop(0)\n",
    "        if n not in visited:\n",
    "            visited.append(n)\n",
    "            \n",
    "            for k in graph[n]:\n",
    "                if k not in visited:\n",
    "                    queue.append(k)\n",
    "    return visited"
   ]
  },
  {
   "cell_type": "code",
   "execution_count": 7,
   "metadata": {},
   "outputs": [],
   "source": [
    "def find_path(graph, start, end, path=[]):\n",
    "    path = path + [start]\n",
    "    if start == end:\n",
    "        return path\n",
    "    if start not in graph:\n",
    "        return None\n",
    "    for node in graph[start]:\n",
    "        if node not in path:\n",
    "            newpath = find_path(graph, node, end, path)\n",
    "            if newpath: return newpath\n",
    "    return None"
   ]
  },
  {
   "cell_type": "code",
   "execution_count": 8,
   "metadata": {},
   "outputs": [],
   "source": [
    "def find_shortest_path(graph, start, end, path=[]):\n",
    "    path = path + [start]\n",
    "    if start == end:\n",
    "        return path\n",
    "    if start not in graph:\n",
    "        return None\n",
    "    shortest = None\n",
    "    for node in graph[start]:\n",
    "        if node not in path:\n",
    "            newpath = find_shortest_path(graph, node, end, path)\n",
    "            if newpath:\n",
    "                if not shortest or len(newpath) < len(shortest):\n",
    "                    shortest = newpath\n",
    "    return shortest"
   ]
  },
  {
   "cell_type": "code",
   "execution_count": 9,
   "metadata": {},
   "outputs": [
    {
     "name": "stdout",
     "output_type": "stream",
     "text": [
      "shortest path\n",
      "SOME1▶Padding▶Concate▶DNN▶\n",
      "bfs path\n",
      "SOME1▶Resize▶Padding▶Concate▶Concate▶DNN▶"
     ]
    }
   ],
   "source": [
    "print('shortest path')\n",
    "for n in find_shortest_path(nodes, '0', '4'):\n",
    "    print(graph_data['operators'][n]['properties']['title'], end=\"▶\")\n",
    "\n",
    "print('\\nbfs path')\n",
    "for n in bfs(nodes, '0'):\n",
    "    print(graph_data['operators'][n]['properties']['title'], end=\"▶\")    "
   ]
  },
  {
   "cell_type": "code",
   "execution_count": 10,
   "metadata": {},
   "outputs": [],
   "source": [
    "def some1(): return 'some1'\n",
    "def some2(): return 'some2'\n",
    "def some3(): return 'some3'\n",
    "def some4(): return 'some4'\n",
    "\n",
    "def resize(input_0): return 'resize'\n",
    "def padding(input_0): return 'padding'\n",
    "def crop(input_0): return 'crop'\n",
    "def concate(input_0, input_1): return 'concate ' + input_0 + input_1\n",
    "def cnn(input_0): return 'cnn'\n",
    "def boosting(input_0): return 'boosting'\n",
    "def dnn(input_0): return 'DNN'\n",
    "\n",
    "\n",
    "funtion_pointer = {\n",
    "    \"SOME1\" : some1,\n",
    "    \"SOME2\" : some2,\n",
    "    \"SOME3\" : some3,\n",
    "    \"SOME4\" : some4,\n",
    "    \"Resize\" : resize,\n",
    "    \"Padding\" : padding,\n",
    "    \"Crop\": crop,\n",
    "    \"Concate\": concate,\n",
    "    \"CNN\": cnn,\n",
    "    \"DNN\": dnn,\n",
    "    \"boosting\": boosting\n",
    "}"
   ]
  },
  {
   "cell_type": "code",
   "execution_count": 11,
   "metadata": {},
   "outputs": [
    {
     "name": "stdout",
     "output_type": "stream",
     "text": [
      "some1\n",
      "resize\n",
      "padding\n",
      "concate1_output_0_SOME2_output_0_SOME\n",
      "concate3_output_0_SOME2_output_0_SOME\n",
      "DNN\n"
     ]
    }
   ],
   "source": [
    "lookup_table = {}\n",
    "\n",
    "for n in bfs(nodes, '0'):\n",
    "    \n",
    "    title = graph_data['operators'][n]['properties']['title']\n",
    "    \n",
    "    ins = graph_data['operators'][n]['properties']['inputs'].keys()\n",
    "    outs = graph_data['operators'][n]['properties']['outputs'].keys()\n",
    "    \n",
    "    for k in outs:\n",
    "        operator_output = '{}|{}'.format(n, k)\n",
    "        lookup_table[n] = {k: '{}_{}_SOME'.format(n, k)}\n",
    "    \n",
    "    function_params = {}\n",
    "    \n",
    "    for k in ins:\n",
    "        from_node, from_label = nodes_ins[n][k]\n",
    "        function_params[k] = lookup_table[from_node][from_label]\n",
    "        \n",
    "    print(funtion_pointer[title](**function_params))"
   ]
  },
  {
   "cell_type": "code",
   "execution_count": null,
   "metadata": {},
   "outputs": [],
   "source": []
  }
 ],
 "metadata": {
  "kernelspec": {
   "display_name": "Python 3",
   "language": "python",
   "name": "python3"
  },
  "language_info": {
   "codemirror_mode": {
    "name": "ipython",
    "version": 3
   },
   "file_extension": ".py",
   "mimetype": "text/x-python",
   "name": "python",
   "nbconvert_exporter": "python",
   "pygments_lexer": "ipython3",
   "version": "3.6.9"
  }
 },
 "nbformat": 4,
 "nbformat_minor": 2
}
